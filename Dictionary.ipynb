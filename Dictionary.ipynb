{
 "cells": [
  {
   "cell_type": "code",
   "execution_count": null,
   "id": "6e990f3c-d560-4cfc-a075-2302ee2e3e50",
   "metadata": {},
   "outputs": [],
   "source": [
    "#Dictinary Methods"
   ]
  },
  {
   "cell_type": "code",
   "execution_count": 2,
   "id": "f052ff30-b194-4121-bb44-bc0a9c396e23",
   "metadata": {},
   "outputs": [
    {
     "data": {
      "text/plain": [
       "{1: 'AI', 2: 'ML'}"
      ]
     },
     "execution_count": 2,
     "metadata": {},
     "output_type": "execute_result"
    }
   ],
   "source": [
    "#Dictionary \n",
    "my_dict = {1: 'AI', 2: 'ML'}\n",
    "my_dict"
   ]
  },
  {
   "cell_type": "code",
   "execution_count": 4,
   "id": "17123323-31df-43f6-b080-80d3e678b084",
   "metadata": {},
   "outputs": [
    {
     "data": {
      "text/html": [
       "<div>\n",
       "<style scoped>\n",
       "    .dataframe tbody tr th:only-of-type {\n",
       "        vertical-align: middle;\n",
       "    }\n",
       "\n",
       "    .dataframe tbody tr th {\n",
       "        vertical-align: top;\n",
       "    }\n",
       "\n",
       "    .dataframe thead th {\n",
       "        text-align: right;\n",
       "    }\n",
       "</style>\n",
       "<table border=\"1\" class=\"dataframe\">\n",
       "  <thead>\n",
       "    <tr style=\"text-align: right;\">\n",
       "      <th></th>\n",
       "      <th>name</th>\n",
       "      <th>Age</th>\n",
       "      <th>gander</th>\n",
       "      <th>name1</th>\n",
       "    </tr>\n",
       "  </thead>\n",
       "  <tbody>\n",
       "    <tr>\n",
       "      <th>0</th>\n",
       "      <td>A</td>\n",
       "      <td>24</td>\n",
       "      <td>m</td>\n",
       "      <td>A</td>\n",
       "    </tr>\n",
       "    <tr>\n",
       "      <th>1</th>\n",
       "      <td>B</td>\n",
       "      <td>25</td>\n",
       "      <td>f</td>\n",
       "      <td>B</td>\n",
       "    </tr>\n",
       "    <tr>\n",
       "      <th>2</th>\n",
       "      <td>C</td>\n",
       "      <td>26</td>\n",
       "      <td>f</td>\n",
       "      <td>C</td>\n",
       "    </tr>\n",
       "  </tbody>\n",
       "</table>\n",
       "</div>"
      ],
      "text/plain": [
       "  name  Age gander name1\n",
       "0    A   24      m     A\n",
       "1    B   25      f     B\n",
       "2    C   26      f     C"
      ]
     },
     "execution_count": 4,
     "metadata": {},
     "output_type": "execute_result"
    }
   ],
   "source": [
    "my_dict = {\"name\":[\"A\",\"B\",\"C\"],\"Age\":[24,25,26],\"gander\":[\"m\",\"f\",\"f\"],\"name\":[\"A\",\"B\",\"C\"]}\n",
    "my_dict\n",
    "\n",
    "import pandas as pd\n",
    "pd.DataFrame(my_dict)"
   ]
  },
  {
   "cell_type": "code",
   "execution_count": null,
   "id": "863f5e2e-3277-436d-92ed-2ed79ba5e74c",
   "metadata": {},
   "outputs": [],
   "source": [
    "#Keys\n",
    "my_dict.keys()"
   ]
  },
  {
   "cell_type": "code",
   "execution_count": null,
   "id": "26e3b375-5a63-426d-9ec0-a68c1167f2ef",
   "metadata": {},
   "outputs": [],
   "source": [
    "#Values\n",
    "my_dict.values()"
   ]
  },
  {
   "cell_type": "code",
   "execution_count": null,
   "id": "49940258-d85d-42d1-8f74-9569d4bf6111",
   "metadata": {},
   "outputs": [],
   "source": [
    "#Items\n",
    "my_dict.items()"
   ]
  },
  {
   "cell_type": "code",
   "execution_count": null,
   "id": "7233b820-5aea-4d32-acbf-39fd42dfbaac",
   "metadata": {},
   "outputs": [],
   "source": [
    "#add item\n",
    "my_dict[\"Age\"]=(20,20,20)"
   ]
  },
  {
   "cell_type": "code",
   "execution_count": null,
   "id": "273fdc2f-333b-4bb8-9d74-813517345ec1",
   "metadata": {},
   "outputs": [],
   "source": [
    "my_dict"
   ]
  },
  {
   "cell_type": "code",
   "execution_count": null,
   "id": "12215656-46b3-493e-8566-d1530f3d8c70",
   "metadata": {},
   "outputs": [],
   "source": [
    "del my_dict[\"Age\"]\n",
    "my_dict"
   ]
  },
  {
   "cell_type": "code",
   "execution_count": null,
   "id": "039b1642-f208-44fa-8d7f-5bf996d62cb2",
   "metadata": {},
   "outputs": [],
   "source": []
  },
  {
   "cell_type": "code",
   "execution_count": null,
   "id": "05e46e3d-11b8-4db0-964b-7fb60f19ef13",
   "metadata": {},
   "outputs": [],
   "source": [
    "# empty dictionary\n",
    "my_dict"
   ]
  },
  {
   "cell_type": "code",
   "execution_count": null,
   "id": "c1d8146a-77ea-41c4-bfd6-6dc2351dc1cf",
   "metadata": {},
   "outputs": [],
   "source": [
    "# dictionary with mixed keys\n",
    "my_dict = {'name': 'John', 1: [2, 4, 3]}\n",
    "\n",
    "my_dict\n",
    "\n"
   ]
  },
  {
   "cell_type": "code",
   "execution_count": null,
   "id": "c4332b5b-99ab-450c-b0e9-12c7e50e3fbd",
   "metadata": {},
   "outputs": [],
   "source": [
    "# using dict()\n",
    "my_dict = dict({1:'apple', 2:'ball'})\n",
    "\n",
    "my_dict\n",
    "\n"
   ]
  },
  {
   "cell_type": "code",
   "execution_count": null,
   "id": "62ea6a6c-772e-40b2-9eb0-ea0c794e2c6d",
   "metadata": {},
   "outputs": [],
   "source": [
    "#Accessing elements from dictionary\n",
    "my_dict = {'name':'Jack', 'age': 26}\n",
    "\n",
    "my_dict \n",
    "\n"
   ]
  },
  {
   "cell_type": "code",
   "execution_count": null,
   "id": "84f6b4d1-959b-4d76-a471-78d7ba20964a",
   "metadata": {},
   "outputs": [],
   "source": [
    "my_dict['name']"
   ]
  },
  {
   "cell_type": "code",
   "execution_count": null,
   "id": "5550c6da-d6fb-47f2-b01a-ec384b2360be",
   "metadata": {},
   "outputs": [],
   "source": [
    "my_dict.get('age')"
   ]
  },
  {
   "cell_type": "code",
   "execution_count": null,
   "id": "7a68c51a-c604-42dc-a4bb-e21e293fd6b1",
   "metadata": {},
   "outputs": [],
   "source": [
    "#Adding Itens to dictionary-We can add new items or change the value of existing items using assignment operator.\n",
    "#If the key is already present, value gets updated, else a new key: value pair is added to the dictionary.\n",
    "thisdict =\t{\n",
    "  \"brand\": \"Ford\",\n",
    "  \"model\": \"Mustang\",\n",
    "  \"year\": 1964\n",
    "}\n",
    "\n",
    "thisdict[\"color\"] = \"red\"\n",
    "\n",
    "thisdict\n",
    "\n"
   ]
  },
  {
   "cell_type": "code",
   "execution_count": null,
   "id": "212f5aec-4b83-437d-9e46-b02bc47294bd",
   "metadata": {},
   "outputs": [],
   "source": [
    "#new dict\n",
    "my_dict = {'name':'Jack', 'age': 26}\n",
    "\n",
    "my_dict\n",
    "\n",
    "{'name': 'Jack', 'age': 26}\n",
    "\n",
    "# update value\n",
    "my_dict['age'] = 27\n",
    "\n",
    "my_dict\n",
    "\n"
   ]
  },
  {
   "cell_type": "code",
   "execution_count": null,
   "id": "c70ba02c-6d0b-46e2-b827-12448f52fc9e",
   "metadata": {},
   "outputs": [],
   "source": [
    "#del\n",
    "del my_dict[\"address\"]  \n",
    "\n",
    "my_dict\n",
    "\n"
   ]
  },
  {
   "cell_type": "code",
   "execution_count": null,
   "id": "60ca8ec9-3546-47c5-9198-a91639c01785",
   "metadata": {},
   "outputs": [],
   "source": [
    "#clear()\n",
    "car = {\n",
    "  \"brand\": \"Ford\",\n",
    "  \"model\": \"Mustang\",\n",
    "  \"year\": 1964\n",
    "}"
   ]
  },
  {
   "cell_type": "code",
   "execution_count": null,
   "id": "a291297b-be9d-4556-babc-b471a860c665",
   "metadata": {},
   "outputs": [],
   "source": [
    "car.clear()"
   ]
  },
  {
   "cell_type": "code",
   "execution_count": null,
   "id": "0c6eb454-c194-4218-8b2a-a049440a3c01",
   "metadata": {},
   "outputs": [],
   "source": [
    "#items()\n",
    "car.items()"
   ]
  },
  {
   "cell_type": "code",
   "execution_count": null,
   "id": "12754429-3148-4f22-8f21-993617913256",
   "metadata": {},
   "outputs": [],
   "source": [
    "#keys()\n",
    "car.keys()"
   ]
  },
  {
   "cell_type": "code",
   "execution_count": null,
   "id": "2f0d84b7-ef0b-4a50-ad58-76423a643038",
   "metadata": {},
   "outputs": [],
   "source": [
    "#pop()\n",
    "car.pop(\"model\")"
   ]
  },
  {
   "cell_type": "code",
   "execution_count": null,
   "id": "7a3da005-f313-4968-981e-0688cbec662e",
   "metadata": {},
   "outputs": [],
   "source": [
    "#popitem()\n",
    "car.popitem()"
   ]
  },
  {
   "cell_type": "code",
   "execution_count": null,
   "id": "4e08e52a-85b8-4c67-91c7-4891884978e5",
   "metadata": {},
   "outputs": [],
   "source": [
    "#update()\n",
    "car.update({\"color\": \"Blue\"})\n",
    "car"
   ]
  },
  {
   "cell_type": "code",
   "execution_count": null,
   "id": "637a9dda-8f72-4862-9f57-42669ccceb2b",
   "metadata": {},
   "outputs": [],
   "source": [
    "#values()\n",
    "car.values()\n",
    "car"
   ]
  },
  {
   "cell_type": "code",
   "execution_count": null,
   "id": "c4f04cd0-acca-489e-8fa2-873edc8f5e38",
   "metadata": {},
   "outputs": [],
   "source": []
  }
 ],
 "metadata": {
  "kernelspec": {
   "display_name": "Python 3 (ipykernel)",
   "language": "python",
   "name": "python3"
  },
  "language_info": {
   "codemirror_mode": {
    "name": "ipython",
    "version": 3
   },
   "file_extension": ".py",
   "mimetype": "text/x-python",
   "name": "python",
   "nbconvert_exporter": "python",
   "pygments_lexer": "ipython3",
   "version": "3.10.0"
  }
 },
 "nbformat": 4,
 "nbformat_minor": 5
}
